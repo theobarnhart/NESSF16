{
 "cells": [
  {
   "cell_type": "code",
   "execution_count": 1,
   "metadata": {
    "collapsed": false
   },
   "outputs": [],
   "source": [
    "from osgeo import ogr\n",
    "from osgeo import gdal\n",
    "import ipyparallel as p"
   ]
  },
  {
   "cell_type": "code",
   "execution_count": 2,
   "metadata": {
    "collapsed": true
   },
   "outputs": [],
   "source": [
    "fl = './western_us_vic_index.tiff'\n",
    "ds = gdal.Open(fl)\n",
    "rast = np.array(ds.GetRasterBand(1).ReadAsArray())\n",
    "rast[rast==-9999] = np.NaN"
   ]
  },
  {
   "cell_type": "code",
   "execution_count": 3,
   "metadata": {
    "collapsed": true
   },
   "outputs": [],
   "source": [
    "cells = np.unique(rast[np.isnan(rast)==0])"
   ]
  },
  {
   "cell_type": "code",
   "execution_count": 4,
   "metadata": {
    "collapsed": false
   },
   "outputs": [
    {
     "data": {
      "text/plain": [
       "array([  13120.,   13121.,   13418., ...,  252052.,  252053.,  252054.])"
      ]
     },
     "execution_count": 4,
     "metadata": {},
     "output_type": "execute_result"
    }
   ],
   "source": [
    "cells"
   ]
  },
  {
   "cell_type": "code",
   "execution_count": 5,
   "metadata": {
    "collapsed": false
   },
   "outputs": [
    {
     "data": {
      "text/plain": [
       "101709"
      ]
     },
     "execution_count": 5,
     "metadata": {},
     "output_type": "execute_result"
    }
   ],
   "source": [
    "len(cells)"
   ]
  },
  {
   "cell_type": "code",
   "execution_count": 6,
   "metadata": {
    "collapsed": false
   },
   "outputs": [],
   "source": [
    "pc = p.Client()"
   ]
  },
  {
   "cell_type": "code",
   "execution_count": 7,
   "metadata": {
    "collapsed": true
   },
   "outputs": [],
   "source": [
    "v = pc.load_balanced_view()"
   ]
  },
  {
   "cell_type": "code",
   "execution_count": 8,
   "metadata": {
    "collapsed": false
   },
   "outputs": [
    {
     "data": {
      "text/plain": [
       "[0, 1, 2, 3]"
      ]
     },
     "execution_count": 8,
     "metadata": {},
     "output_type": "execute_result"
    }
   ],
   "source": [
    "pc.ids"
   ]
  },
  {
   "cell_type": "code",
   "execution_count": 9,
   "metadata": {
    "collapsed": true
   },
   "outputs": [],
   "source": [
    "fluxes_columns = ['y','m','d','ET','R','BF','sm1','sm2','sm3','SWE','Cs','Qs','Ql','Qg','NR','PEText','PETtrc','PETsrc']\n",
    "dates = pd.read_pickle('/Volumes/Users/Theo/projects/Budyko_vic/timecode.pcl')"
   ]
  },
  {
   "cell_type": "code",
   "execution_count": 10,
   "metadata": {
    "collapsed": false
   },
   "outputs": [],
   "source": [
    "%%px\n",
    "import numpy as np\n",
    "import pandas as pd\n",
    "files = pd.read_pickle('/Volumes/Users/Theo/projects/Budyko_vic/forcing_fluxes_filenames_lat_lon_index.df')\n",
    "dates = pd.read_pickle('/Volumes/Users/Theo/projects/Budyko_vic/timecode.pcl')\n",
    "wyears = np.load('/Volumes/Users/Theo/projects/Budyko_vic/wyears.npy')\n",
    "fluxes_columns = ['y','m','d','ET','R','BF','sm1','sm2','sm3','SWE','Cs','Qs','Ql','Qg','NR','PEText','PETtrc','PETsrc']\n",
    "forcing_columns = ['P','Tmax','Tmin','W']"
   ]
  },
  {
   "cell_type": "code",
   "execution_count": 11,
   "metadata": {
    "collapsed": true
   },
   "outputs": [],
   "source": [
    "files = pd.read_pickle('/Volumes/Users/Theo/projects/Budyko_vic/forcing_fluxes_filenames_lat_lon_index.df')"
   ]
  },
  {
   "cell_type": "code",
   "execution_count": 20,
   "metadata": {
    "collapsed": false
   },
   "outputs": [
    {
     "data": {
      "text/html": [
       "<div>\n",
       "<table border=\"1\" class=\"dataframe\">\n",
       "  <thead>\n",
       "    <tr style=\"text-align: right;\">\n",
       "      <th></th>\n",
       "      <th>exists</th>\n",
       "      <th>flux</th>\n",
       "      <th>forcing</th>\n",
       "      <th>lat</th>\n",
       "      <th>lon</th>\n",
       "      <th>indexer</th>\n",
       "    </tr>\n",
       "  </thead>\n",
       "  <tbody>\n",
       "    <tr>\n",
       "      <th>0</th>\n",
       "      <td>True</td>\n",
       "      <td>/Users/barnhatb/research/vic/fluxes/ascii/lati...</td>\n",
       "      <td>/Users/barnhatb/research/vic/forcing/ascii/lat...</td>\n",
       "      <td>25.03125</td>\n",
       "      <td>-100.03125</td>\n",
       "      <td>1</td>\n",
       "    </tr>\n",
       "    <tr>\n",
       "      <th>1</th>\n",
       "      <td>True</td>\n",
       "      <td>/Users/barnhatb/research/vic/fluxes/ascii/lati...</td>\n",
       "      <td>/Users/barnhatb/research/vic/forcing/ascii/lat...</td>\n",
       "      <td>25.03125</td>\n",
       "      <td>-100.09375</td>\n",
       "      <td>2</td>\n",
       "    </tr>\n",
       "    <tr>\n",
       "      <th>2</th>\n",
       "      <td>True</td>\n",
       "      <td>/Users/barnhatb/research/vic/fluxes/ascii/lati...</td>\n",
       "      <td>/Users/barnhatb/research/vic/forcing/ascii/lat...</td>\n",
       "      <td>25.03125</td>\n",
       "      <td>-100.15625</td>\n",
       "      <td>3</td>\n",
       "    </tr>\n",
       "    <tr>\n",
       "      <th>3</th>\n",
       "      <td>True</td>\n",
       "      <td>/Users/barnhatb/research/vic/fluxes/ascii/lati...</td>\n",
       "      <td>/Users/barnhatb/research/vic/forcing/ascii/lat...</td>\n",
       "      <td>25.03125</td>\n",
       "      <td>-100.21875</td>\n",
       "      <td>4</td>\n",
       "    </tr>\n",
       "    <tr>\n",
       "      <th>4</th>\n",
       "      <td>True</td>\n",
       "      <td>/Users/barnhatb/research/vic/fluxes/ascii/lati...</td>\n",
       "      <td>/Users/barnhatb/research/vic/forcing/ascii/lat...</td>\n",
       "      <td>25.03125</td>\n",
       "      <td>-100.28125</td>\n",
       "      <td>5</td>\n",
       "    </tr>\n",
       "  </tbody>\n",
       "</table>\n",
       "</div>"
      ],
      "text/plain": [
       "  exists                                               flux  \\\n",
       "0   True  /Users/barnhatb/research/vic/fluxes/ascii/lati...   \n",
       "1   True  /Users/barnhatb/research/vic/fluxes/ascii/lati...   \n",
       "2   True  /Users/barnhatb/research/vic/fluxes/ascii/lati...   \n",
       "3   True  /Users/barnhatb/research/vic/fluxes/ascii/lati...   \n",
       "4   True  /Users/barnhatb/research/vic/fluxes/ascii/lati...   \n",
       "\n",
       "                                             forcing       lat        lon  \\\n",
       "0  /Users/barnhatb/research/vic/forcing/ascii/lat...  25.03125 -100.03125   \n",
       "1  /Users/barnhatb/research/vic/forcing/ascii/lat...  25.03125 -100.09375   \n",
       "2  /Users/barnhatb/research/vic/forcing/ascii/lat...  25.03125 -100.15625   \n",
       "3  /Users/barnhatb/research/vic/forcing/ascii/lat...  25.03125 -100.21875   \n",
       "4  /Users/barnhatb/research/vic/forcing/ascii/lat...  25.03125 -100.28125   \n",
       "\n",
       "   indexer  \n",
       "0        1  \n",
       "1        2  \n",
       "2        3  \n",
       "3        4  \n",
       "4        5  "
      ]
     },
     "execution_count": 20,
     "metadata": {},
     "output_type": "execute_result"
    }
   ],
   "source": [
    "files.head()"
   ]
  },
  {
   "cell_type": "code",
   "execution_count": 12,
   "metadata": {
    "collapsed": false
   },
   "outputs": [],
   "source": [
    "fl = files.loc[files['indexer']==387,'flux'].as_matrix()"
   ]
  },
  {
   "cell_type": "code",
   "execution_count": 13,
   "metadata": {
    "collapsed": false
   },
   "outputs": [
    {
     "data": {
      "text/plain": [
       "'/Users/barnhatb/research/vic/fluxes/ascii/latitude.25.09375/flux_snow_25.09375_-99.46875'"
      ]
     },
     "execution_count": 13,
     "metadata": {},
     "output_type": "execute_result"
    }
   ],
   "source": [
    "fl[0]"
   ]
  },
  {
   "cell_type": "code",
   "execution_count": 21,
   "metadata": {
    "collapsed": true
   },
   "outputs": [],
   "source": [
    "def extract(idx):\n",
    "    \n",
    "    idx = int(idx)\n",
    "    \n",
    "    fl = files.loc[files['indexer']==idx,'flux'].as_matrix()[0]\n",
    "    fr = files.loc[files['indexer']==idx,'forcing'].as_matrix()[0]\n",
    "    \n",
    "    lat = float(fl.split('_')[-2]) # extract latitude from file name\n",
    "    lon = float(fl.split('_')[-1]) # extract longitude from file name\n",
    "\n",
    "    flux = pd.read_table(fl, sep='\\t', names=fluxes_columns)\n",
    "    flux.index = pd.DatetimeIndex(dates)\n",
    "    \n",
    "    force = pd.read_table(fr, sep=' ', names=forcing_columns)\n",
    "    force.index = pd.DatetimeIndex(dates)\n",
    "\n",
    "\n",
    "    et = flux.loc['2000-01-01':'2013-12-31','ET'].mean()\n",
    "    p = force.loc['2000-01-01':'2013-12-31','P'].mean()\n",
    "    \n",
    "    return idx,lat,lon,et,p"
   ]
  },
  {
   "cell_type": "code",
   "execution_count": 22,
   "metadata": {
    "collapsed": true
   },
   "outputs": [],
   "source": [
    "res = v.map(extract,cells)"
   ]
  },
  {
   "cell_type": "code",
   "execution_count": 25,
   "metadata": {
    "collapsed": false
   },
   "outputs": [
    {
     "data": {
      "text/plain": [
       "100.0"
      ]
     },
     "execution_count": 25,
     "metadata": {},
     "output_type": "execute_result"
    }
   ],
   "source": [
    "res.progress/float(len(cells))*100."
   ]
  },
  {
   "cell_type": "code",
   "execution_count": 18,
   "metadata": {
    "collapsed": false
   },
   "outputs": [
    {
     "data": {
      "text/plain": [
       "101709"
      ]
     },
     "execution_count": 18,
     "metadata": {},
     "output_type": "execute_result"
    }
   ],
   "source": [
    "len(cells)"
   ]
  },
  {
   "cell_type": "code",
   "execution_count": 26,
   "metadata": {
    "collapsed": false
   },
   "outputs": [],
   "source": [
    "idx,lat,lon,et,p = zip(*res.result)"
   ]
  },
  {
   "cell_type": "code",
   "execution_count": 27,
   "metadata": {
    "collapsed": true
   },
   "outputs": [],
   "source": [
    "np.savez_compressed('./vic_wUS_et_p.npz',idx=idx,lat=lat,lon=lon,et=et,p=p)"
   ]
  },
  {
   "cell_type": "code",
   "execution_count": 28,
   "metadata": {
    "collapsed": false
   },
   "outputs": [
    {
     "name": "stdout",
     "output_type": "stream",
     "text": [
      "total 1322854\r\n",
      "-rwx------  1 barnhatb  staff   1.4M Dec 18 08:45 \u001b[31mTRMM_Readme_v3.pdf\u001b[m\u001b[m*\r\n",
      "-rwx------@ 1 barnhatb  staff   1.7M Jan 14 11:43 \u001b[31mmyfile.dat\u001b[m\u001b[m*\r\n",
      "-rwx------@ 1 barnhatb  staff   336B Jan 15 10:49 \u001b[31mget_smap_l3sm\u001b[m\u001b[m*\r\n",
      "drwx------  1 barnhatb  staff    16K Jan 15 11:13 \u001b[34mSMAP_L3SM\u001b[m\u001b[m/\r\n",
      "-rwx------@ 1 barnhatb  staff   1.5K Jan 15 17:54 \u001b[31mget_mod16A2_monthly\u001b[m\u001b[m*\r\n",
      "-rwx------@ 1 barnhatb  staff   108B Jan 16 19:02 \u001b[31mwesternUS.shx\u001b[m\u001b[m*\r\n",
      "-rwx------@ 1 barnhatb  staff    17K Jan 16 19:02 \u001b[31mwesternUS.shp.xml\u001b[m\u001b[m*\r\n",
      "-rwx------@ 1 barnhatb  staff    48K Jan 16 19:02 \u001b[31mwesternUS.shp\u001b[m\u001b[m*\r\n",
      "-rwx------@ 1 barnhatb  staff   116B Jan 16 19:02 \u001b[31mwesternUS.sbx\u001b[m\u001b[m*\r\n",
      "-rwx------@ 1 barnhatb  staff   132B Jan 16 19:02 \u001b[31mwesternUS.sbn\u001b[m\u001b[m*\r\n",
      "-rwx------@ 1 barnhatb  staff   145B Jan 16 19:02 \u001b[31mwesternUS.prj\u001b[m\u001b[m*\r\n",
      "-rwx------@ 1 barnhatb  staff   242B Jan 16 19:02 \u001b[31mwesternUS.dbf\u001b[m\u001b[m*\r\n",
      "-rwx------@ 1 barnhatb  staff     5B Jan 16 19:02 \u001b[31mwesternUS.cpg\u001b[m\u001b[m*\r\n",
      "-rwx------  1 barnhatb  staff    50K Jan 17 16:51 \u001b[31mPlot NC precip.ipynb\u001b[m\u001b[m*\r\n",
      "-rwx------  1 barnhatb  staff   6.3K Jan 17 18:16 \u001b[31mtest.tiff.aux.xml\u001b[m\u001b[m*\r\n",
      "-rwx------@ 1 barnhatb  staff   278B Jan 17 18:30 \u001b[31mconvert_GPM.sh\u001b[m\u001b[m*\r\n",
      "-rwx------  1 barnhatb  staff   109K Jan 17 18:59 \u001b[31mtest2.tiff\u001b[m\u001b[m*\r\n",
      "-rwx------  1 barnhatb  staff   6.2K Jan 17 19:09 \u001b[31mtest3.tiff.aux.xml\u001b[m\u001b[m*\r\n",
      "-rwx------  1 barnhatb  staff   515K Jan 17 19:09 \u001b[31mtest3.tiff\u001b[m\u001b[m*\r\n",
      "-rwx------  1 barnhatb  staff   4.1M Jan 18 16:58 \u001b[31mnohup.out\u001b[m\u001b[m*\r\n",
      "-rwx------@ 1 barnhatb  staff   2.0K Jan 19 10:02 \u001b[31mclip_MOD16.sh\u001b[m\u001b[m*\r\n",
      "-rwx------@ 1 barnhatb  staff   506B Jan 19 10:05 \u001b[31mclip_gpm.sh\u001b[m\u001b[m*\r\n",
      "drwx------  1 barnhatb  staff    16K Jan 19 13:13 \u001b[34mGPM_3B42\u001b[m\u001b[m/\r\n",
      "-rwx------  1 barnhatb  staff   153K Jan 19 14:02 \u001b[31mannual_MOD16ET_wUS.npz\u001b[m\u001b[m*\r\n",
      "-rwx------  1 barnhatb  staff   171K Jan 19 14:04 \u001b[31mprocess_mod16_data.ipynb\u001b[m\u001b[m*\r\n",
      "drwx------  1 barnhatb  staff    16K Jan 25 11:23 \u001b[34mMOD16A2_monthly\u001b[m\u001b[m/\r\n",
      "-rwx------  1 barnhatb  staff   317M Jan 25 11:24 \u001b[31mvic_index_new_small.tif\u001b[m\u001b[m*\r\n",
      "-rwx------  1 barnhatb  staff   317M Jan 25 11:27 \u001b[31mwestern_us_vic_index.tiff\u001b[m\u001b[m*\r\n",
      "-rwx------  1 barnhatb  staff    15K Jan 25 12:06 \u001b[31mannual_GPM3B42_wUS.npz\u001b[m\u001b[m*\r\n",
      "-rwx------  1 barnhatb  staff    59K Jan 25 12:06 \u001b[31mprocess_3B42_data.ipynb\u001b[m\u001b[m*\r\n",
      "-rwx------  1 barnhatb  staff   869K Jan 26 11:01 \u001b[31mvic_wUS_PET.npz\u001b[m\u001b[m*\r\n",
      "-rwx------  1 barnhatb  staff    12K Jan 27 10:38 \u001b[31mprocess_vic_pet.ipynb\u001b[m\u001b[m*\r\n",
      "-rwx------  1 barnhatb  staff   2.8K Jan 27 13:43 \u001b[31mwestern_us_vic_index.tiff.aux.xml\u001b[m\u001b[m*\r\n",
      "drwx------  1 barnhatb  staff    16K Jan 27 14:39 \u001b[34mfigures\u001b[m\u001b[m/\r\n",
      "-rwx------  1 barnhatb  staff    44K Jan 27 15:12 \u001b[31mprocess_vic_et_p.ipynb\u001b[m\u001b[m*\r\n",
      "-rwx------  1 barnhatb  staff   467K Jan 28 13:42 \u001b[31mplot_p_et_pet.ipynb\u001b[m\u001b[m*\r\n",
      "-rwx------  1 barnhatb  staff   1.6M Jan 28 13:44 \u001b[31mvic_wUS_et_p.npz\u001b[m\u001b[m*\r\n"
     ]
    }
   ],
   "source": [
    "ls -lthr"
   ]
  },
  {
   "cell_type": "code",
   "execution_count": 27,
   "metadata": {
    "collapsed": false
   },
   "outputs": [
    {
     "ename": "ValueError",
     "evalue": "Lengths must match to compare",
     "output_type": "error",
     "traceback": [
      "\u001b[0;31m---------------------------------------------------------------------------\u001b[0m",
      "\u001b[0;31mValueError\u001b[0m                                Traceback (most recent call last)",
      "\u001b[0;32m<ipython-input-27-fb7c5a5da156>\u001b[0m in \u001b[0;36m<module>\u001b[0;34m()\u001b[0m\n\u001b[0;32m----> 1\u001b[0;31m \u001b[0mfiles\u001b[0m \u001b[0;34m=\u001b[0m \u001b[0mfiles\u001b[0m\u001b[0;34m.\u001b[0m\u001b[0mloc\u001b[0m\u001b[0;34m[\u001b[0m\u001b[0mfiles\u001b[0m\u001b[0;34m[\u001b[0m\u001b[0;34m'indexer'\u001b[0m\u001b[0;34m]\u001b[0m\u001b[0;34m==\u001b[0m\u001b[0mcells\u001b[0m\u001b[0;34m]\u001b[0m\u001b[0;34m\u001b[0m\u001b[0m\n\u001b[0m",
      "\u001b[0;32m/Users/barnhatb/anaconda/lib/python2.7/site-packages/pandas/core/ops.pyc\u001b[0m in \u001b[0;36mwrapper\u001b[0;34m(self, other, axis)\u001b[0m\n\u001b[1;32m    704\u001b[0m         \u001b[0;32melif\u001b[0m \u001b[0misinstance\u001b[0m\u001b[0;34m(\u001b[0m\u001b[0mother\u001b[0m\u001b[0;34m,\u001b[0m \u001b[0;34m(\u001b[0m\u001b[0mnp\u001b[0m\u001b[0;34m.\u001b[0m\u001b[0mndarray\u001b[0m\u001b[0;34m,\u001b[0m \u001b[0mpd\u001b[0m\u001b[0;34m.\u001b[0m\u001b[0mIndex\u001b[0m\u001b[0;34m)\u001b[0m\u001b[0;34m)\u001b[0m\u001b[0;34m:\u001b[0m\u001b[0;34m\u001b[0m\u001b[0m\n\u001b[1;32m    705\u001b[0m             \u001b[0;32mif\u001b[0m \u001b[0mlen\u001b[0m\u001b[0;34m(\u001b[0m\u001b[0mself\u001b[0m\u001b[0;34m)\u001b[0m \u001b[0;34m!=\u001b[0m \u001b[0mlen\u001b[0m\u001b[0;34m(\u001b[0m\u001b[0mother\u001b[0m\u001b[0;34m)\u001b[0m\u001b[0;34m:\u001b[0m\u001b[0;34m\u001b[0m\u001b[0m\n\u001b[0;32m--> 706\u001b[0;31m                 \u001b[0;32mraise\u001b[0m \u001b[0mValueError\u001b[0m\u001b[0;34m(\u001b[0m\u001b[0;34m'Lengths must match to compare'\u001b[0m\u001b[0;34m)\u001b[0m\u001b[0;34m\u001b[0m\u001b[0m\n\u001b[0m\u001b[1;32m    707\u001b[0m             return self._constructor(na_op(self.values, np.asarray(other)),\n\u001b[1;32m    708\u001b[0m                                      index=self.index).__finalize__(self)\n",
      "\u001b[0;31mValueError\u001b[0m: Lengths must match to compare"
     ]
    }
   ],
   "source": [
    "files = files.loc[files['indexer']==cells]"
   ]
  },
  {
   "cell_type": "code",
   "execution_count": null,
   "metadata": {
    "collapsed": true
   },
   "outputs": [],
   "source": []
  }
 ],
 "metadata": {
  "kernelspec": {
   "display_name": "Python 2",
   "language": "python",
   "name": "python2"
  },
  "language_info": {
   "codemirror_mode": {
    "name": "ipython",
    "version": 2
   },
   "file_extension": ".py",
   "mimetype": "text/x-python",
   "name": "python",
   "nbconvert_exporter": "python",
   "pygments_lexer": "ipython2",
   "version": "2.7.11"
  }
 },
 "nbformat": 4,
 "nbformat_minor": 0
}
