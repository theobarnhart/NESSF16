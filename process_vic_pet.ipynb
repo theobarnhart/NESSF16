{
 "cells": [
  {
   "cell_type": "code",
   "execution_count": 1,
   "metadata": {
    "collapsed": false
   },
   "outputs": [],
   "source": [
    "from osgeo import ogr\n",
    "from osgeo import gdal\n",
    "import ipyparallel as p"
   ]
  },
  {
   "cell_type": "code",
   "execution_count": 2,
   "metadata": {
    "collapsed": true
   },
   "outputs": [],
   "source": [
    "fl = './western_us_vic_index.tiff'\n",
    "ds = gdal.Open(fl)\n",
    "rast = np.array(ds.GetRasterBand(1).ReadAsArray())\n",
    "rast[rast==-9999] = np.NaN"
   ]
  },
  {
   "cell_type": "code",
   "execution_count": 3,
   "metadata": {
    "collapsed": true
   },
   "outputs": [],
   "source": [
    "cells = np.unique(rast[np.isnan(rast)==0])"
   ]
  },
  {
   "cell_type": "code",
   "execution_count": 4,
   "metadata": {
    "collapsed": false
   },
   "outputs": [
    {
     "data": {
      "text/plain": [
       "array([  13120.,   13121.,   13418., ...,  252052.,  252053.,  252054.])"
      ]
     },
     "execution_count": 4,
     "metadata": {},
     "output_type": "execute_result"
    }
   ],
   "source": [
    "cells"
   ]
  },
  {
   "cell_type": "code",
   "execution_count": 5,
   "metadata": {
    "collapsed": false
   },
   "outputs": [
    {
     "data": {
      "text/plain": [
       "101709"
      ]
     },
     "execution_count": 5,
     "metadata": {},
     "output_type": "execute_result"
    }
   ],
   "source": [
    "len(cells)"
   ]
  },
  {
   "cell_type": "code",
   "execution_count": 6,
   "metadata": {
    "collapsed": false
   },
   "outputs": [],
   "source": [
    "pc = p.Client()"
   ]
  },
  {
   "cell_type": "code",
   "execution_count": 15,
   "metadata": {
    "collapsed": true
   },
   "outputs": [],
   "source": [
    "v = pc.load_balanced_view()"
   ]
  },
  {
   "cell_type": "code",
   "execution_count": 16,
   "metadata": {
    "collapsed": false
   },
   "outputs": [
    {
     "data": {
      "text/plain": [
       "[0, 1, 2, 3]"
      ]
     },
     "execution_count": 16,
     "metadata": {},
     "output_type": "execute_result"
    }
   ],
   "source": [
    "pc.ids"
   ]
  },
  {
   "cell_type": "code",
   "execution_count": 35,
   "metadata": {
    "collapsed": true
   },
   "outputs": [],
   "source": [
    "fluxes_columns = ['y','m','d','ET','R','BF','sm1','sm2','sm3','SWE','Cs','Qs','Ql','Qg','NR','PEText','PETtrc','PETsrc']\n",
    "dates = pd.read_pickle('/Volumes/Users/Theo/projects/Budyko_vic/timecode.pcl')"
   ]
  },
  {
   "cell_type": "code",
   "execution_count": 9,
   "metadata": {
    "collapsed": false
   },
   "outputs": [],
   "source": [
    "%%px\n",
    "import numpy as np\n",
    "import pandas as pd\n",
    "files = pd.read_pickle('/Volumes/Users/Theo/projects/Budyko_vic/forcing_fluxes_filenames_lat_lon_index.df')\n",
    "dates = pd.read_pickle('/Volumes/Users/Theo/projects/Budyko_vic/timecode.pcl')\n",
    "wyears = np.load('/Volumes/Users/Theo/projects/Budyko_vic/wyears.npy')\n",
    "fluxes_columns = ['y','m','d','ET','R','BF','sm1','sm2','sm3','SWE','Cs','Qs','Ql','Qg','NR','PEText','PETtrc','PETsrc']"
   ]
  },
  {
   "cell_type": "code",
   "execution_count": 11,
   "metadata": {
    "collapsed": true
   },
   "outputs": [],
   "source": [
    "files = pd.read_pickle('/Volumes/Users/Theo/projects/Budyko_vic/forcing_fluxes_filenames_lat_lon_index.df')"
   ]
  },
  {
   "cell_type": "code",
   "execution_count": 12,
   "metadata": {
    "collapsed": false
   },
   "outputs": [],
   "source": [
    "fl = files.loc[files['indexer']==387,'flux'].as_matrix()"
   ]
  },
  {
   "cell_type": "code",
   "execution_count": 13,
   "metadata": {
    "collapsed": false
   },
   "outputs": [
    {
     "data": {
      "text/plain": [
       "'/Users/barnhatb/research/vic/fluxes/ascii/latitude.25.09375/flux_snow_25.09375_-99.46875'"
      ]
     },
     "execution_count": 13,
     "metadata": {},
     "output_type": "execute_result"
    }
   ],
   "source": [
    "fl[0]"
   ]
  },
  {
   "cell_type": "code",
   "execution_count": 56,
   "metadata": {
    "collapsed": true
   },
   "outputs": [],
   "source": [
    "def extractPET(idx):\n",
    "    \n",
    "    idx = int(idx)\n",
    "    \n",
    "    fl = files.loc[files['indexer']==idx,'flux'].as_matrix()[0]\n",
    "    \n",
    "    lat = float(fl.split('_')[-2]) # extract latitude from file name\n",
    "    lon = float(fl.split('_')[-1]) # extract longitude from file name\n",
    "\n",
    "    flux = pd.read_table(fl, sep='\\t', names=fluxes_columns)\n",
    "\n",
    "    flux.index = pd.DatetimeIndex(dates)\n",
    "\n",
    "    pet = flux.loc['2000-01-01':'2013-12-31','PEText'].mean()\n",
    "    \n",
    "    return idx,lat,lon,pet"
   ]
  },
  {
   "cell_type": "code",
   "execution_count": 79,
   "metadata": {
    "collapsed": true
   },
   "outputs": [],
   "source": [
    "res = v.map(extractPET,cells)"
   ]
  },
  {
   "cell_type": "code",
   "execution_count": 86,
   "metadata": {
    "collapsed": false
   },
   "outputs": [
    {
     "data": {
      "text/plain": [
       "100.0"
      ]
     },
     "execution_count": 86,
     "metadata": {},
     "output_type": "execute_result"
    }
   ],
   "source": [
    "res.progress/float(len(cells))*100."
   ]
  },
  {
   "cell_type": "code",
   "execution_count": 81,
   "metadata": {
    "collapsed": false
   },
   "outputs": [
    {
     "data": {
      "text/plain": [
       "101709"
      ]
     },
     "execution_count": 81,
     "metadata": {},
     "output_type": "execute_result"
    }
   ],
   "source": [
    "len(cells)"
   ]
  },
  {
   "cell_type": "code",
   "execution_count": 87,
   "metadata": {
    "collapsed": false
   },
   "outputs": [],
   "source": [
    "idx,lat,lon,pet = zip(*res.result)"
   ]
  },
  {
   "cell_type": "code",
   "execution_count": 88,
   "metadata": {
    "collapsed": true
   },
   "outputs": [],
   "source": [
    "np.savez_compressed('./vic_wUS_PET.npz',idx=idx,lat=lat,lon=lon,pet=pet)"
   ]
  },
  {
   "cell_type": "code",
   "execution_count": 90,
   "metadata": {
    "collapsed": false
   },
   "outputs": [
    {
     "name": "stdout",
     "output_type": "stream",
     "text": [
      "total 1314886\r\n",
      "-rwx------  1 barnhatb  staff   1.4M Dec 18 08:45 \u001b[31mTRMM_Readme_v3.pdf\u001b[m\u001b[m*\r\n",
      "-rwx------@ 1 barnhatb  staff   1.7M Jan 14 11:43 \u001b[31mmyfile.dat\u001b[m\u001b[m*\r\n",
      "-rwx------@ 1 barnhatb  staff   336B Jan 15 10:49 \u001b[31mget_smap_l3sm\u001b[m\u001b[m*\r\n",
      "drwx------  1 barnhatb  staff    16K Jan 15 11:13 \u001b[34mSMAP_L3SM\u001b[m\u001b[m/\r\n",
      "-rwx------@ 1 barnhatb  staff   1.5K Jan 15 17:54 \u001b[31mget_mod16A2_monthly\u001b[m\u001b[m*\r\n",
      "-rwx------@ 1 barnhatb  staff   108B Jan 16 19:02 \u001b[31mwesternUS.shx\u001b[m\u001b[m*\r\n",
      "-rwx------@ 1 barnhatb  staff    17K Jan 16 19:02 \u001b[31mwesternUS.shp.xml\u001b[m\u001b[m*\r\n",
      "-rwx------@ 1 barnhatb  staff    48K Jan 16 19:02 \u001b[31mwesternUS.shp\u001b[m\u001b[m*\r\n",
      "-rwx------@ 1 barnhatb  staff   116B Jan 16 19:02 \u001b[31mwesternUS.sbx\u001b[m\u001b[m*\r\n",
      "-rwx------@ 1 barnhatb  staff   132B Jan 16 19:02 \u001b[31mwesternUS.sbn\u001b[m\u001b[m*\r\n",
      "-rwx------@ 1 barnhatb  staff   145B Jan 16 19:02 \u001b[31mwesternUS.prj\u001b[m\u001b[m*\r\n",
      "-rwx------@ 1 barnhatb  staff   242B Jan 16 19:02 \u001b[31mwesternUS.dbf\u001b[m\u001b[m*\r\n",
      "-rwx------@ 1 barnhatb  staff     5B Jan 16 19:02 \u001b[31mwesternUS.cpg\u001b[m\u001b[m*\r\n",
      "-rwx------  1 barnhatb  staff    50K Jan 17 16:51 \u001b[31mPlot NC precip.ipynb\u001b[m\u001b[m*\r\n",
      "-rwx------  1 barnhatb  staff   6.3K Jan 17 18:16 \u001b[31mtest.tiff.aux.xml\u001b[m\u001b[m*\r\n",
      "-rwx------@ 1 barnhatb  staff   278B Jan 17 18:30 \u001b[31mconvert_GPM.sh\u001b[m\u001b[m*\r\n",
      "-rwx------  1 barnhatb  staff   109K Jan 17 18:59 \u001b[31mtest2.tiff\u001b[m\u001b[m*\r\n",
      "-rwx------  1 barnhatb  staff   6.2K Jan 17 19:09 \u001b[31mtest3.tiff.aux.xml\u001b[m\u001b[m*\r\n",
      "-rwx------  1 barnhatb  staff   515K Jan 17 19:09 \u001b[31mtest3.tiff\u001b[m\u001b[m*\r\n",
      "-rwx------@ 1 barnhatb  staff   2.0K Jan 19 10:02 \u001b[31mclip_MOD16.sh\u001b[m\u001b[m*\r\n",
      "-rwx------@ 1 barnhatb  staff   506B Jan 19 10:05 \u001b[31mclip_gpm.sh\u001b[m\u001b[m*\r\n",
      "drwx------  1 barnhatb  staff    16K Jan 19 13:13 \u001b[34mGPM_3B42\u001b[m\u001b[m/\r\n",
      "-rwx------  1 barnhatb  staff   153K Jan 19 14:02 \u001b[31mannual_MOD16ET_wUS.npz\u001b[m\u001b[m*\r\n",
      "-rwx------  1 barnhatb  staff   317M Jan 25 11:24 \u001b[31mvic_index_new_small.tif\u001b[m\u001b[m*\r\n",
      "-rwx------  1 barnhatb  staff   317M Jan 25 11:27 \u001b[31mwestern_us_vic_index.tiff\u001b[m\u001b[m*\r\n",
      "-rwx------  1 barnhatb  staff    15K Jan 25 12:06 \u001b[31mannual_GPM3B42_wUS.npz\u001b[m\u001b[m*\r\n",
      "-rwx------  1 barnhatb  staff    59K Jan 25 12:06 \u001b[31mprocess_3B42_data.ipynb\u001b[m\u001b[m*\r\n",
      "-rwx------  1 barnhatb  staff   869K Jan 26 11:01 \u001b[31mvic_wUS_PET.npz\u001b[m\u001b[m*\r\n",
      "-rwx------  1 barnhatb  staff    12K Jan 27 10:38 \u001b[31mprocess_vic_pet.ipynb\u001b[m\u001b[m*\r\n",
      "-rwx------  1 barnhatb  staff   2.8K Jan 27 13:43 \u001b[31mwestern_us_vic_index.tiff.aux.xml\u001b[m\u001b[m*\r\n",
      "drwx------  1 barnhatb  staff    16K Jan 27 14:39 \u001b[34mfigures\u001b[m\u001b[m/\r\n",
      "-rwx------  1 barnhatb  staff   1.6M Jan 28 13:44 \u001b[31mvic_wUS_et_p.npz\u001b[m\u001b[m*\r\n",
      "-rwx------  1 barnhatb  staff    17K Jan 28 19:14 \u001b[31mprocess_vic_et_p.ipynb\u001b[m\u001b[m*\r\n",
      "-rwx------@ 1 barnhatb  staff   2.0K Jan 29 11:27 \u001b[31mclip_MOD16_PET.sh\u001b[m\u001b[m*\r\n",
      "-rwx------  1 barnhatb  staff    61K Jan 29 11:40 \u001b[31mnohup.out\u001b[m\u001b[m*\r\n",
      "drwx------  1 barnhatb  staff    16K Jan 29 11:40 \u001b[34mMOD16A2_monthly\u001b[m\u001b[m/\r\n",
      "-rwx------  1 barnhatb  staff   334K Jan 29 11:50 \u001b[31mplot_p_et_pet.ipynb\u001b[m\u001b[m*\r\n",
      "-rwx------  1 barnhatb  staff   169K Jan 29 13:09 \u001b[31mprocess_mod16_et.ipynb\u001b[m\u001b[m*\r\n",
      "-rwx------  1 barnhatb  staff   132K Jan 29 13:10 \u001b[31mannual_MOD16PET_wUS.npz\u001b[m\u001b[m*\r\n",
      "-rwx------  1 barnhatb  staff   153K Jan 29 13:13 \u001b[31mprocess_mod16_pet.ipynb\u001b[m\u001b[m*\r\n"
     ]
    }
   ],
   "source": [
    "ls -ltrh"
   ]
  },
  {
   "cell_type": "code",
   "execution_count": null,
   "metadata": {
    "collapsed": true
   },
   "outputs": [],
   "source": []
  }
 ],
 "metadata": {
  "kernelspec": {
   "display_name": "Python 2",
   "language": "python",
   "name": "python2"
  },
  "language_info": {
   "codemirror_mode": {
    "name": "ipython",
    "version": 2
   },
   "file_extension": ".py",
   "mimetype": "text/x-python",
   "name": "python",
   "nbconvert_exporter": "python",
   "pygments_lexer": "ipython2",
   "version": "2.7.11"
  }
 },
 "nbformat": 4,
 "nbformat_minor": 0
}
